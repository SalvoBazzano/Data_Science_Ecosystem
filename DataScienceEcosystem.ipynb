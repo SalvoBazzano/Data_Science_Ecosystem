{
  "metadata": {
    "kernelspec": {
      "name": "python",
      "display_name": "Python (Pyodide)",
      "language": "python"
    },
    "language_info": {
      "codemirror_mode": {
        "name": "python",
        "version": 3
      },
      "file_extension": ".py",
      "mimetype": "text/x-python",
      "name": "python",
      "nbconvert_exporter": "python",
      "pygments_lexer": "ipython3",
      "version": "3.8"
    }
  },
  "nbformat_minor": 5,
  "nbformat": 4,
  "cells": [
    {
      "id": "549bd29b-91bc-4b1d-acbb-d8800231b41b",
      "cell_type": "markdown",
      "source": "# Data Science Tools and Ecosystem",
      "metadata": {
        "tags": []
      }
    },
    {
      "id": "81873c4f-341c-4456-a9a5-01f2233ebfa1",
      "cell_type": "markdown",
      "source": "In this notebook, Data Science Tools and Ecosystem are summarized ",
      "metadata": {}
    },
    {
      "id": "575f9892-4aee-4153-b2c3-fab81205b2d2",
      "cell_type": "markdown",
      "source": "**Objective**\n- Create a Jupyter Notebook\n- Create a markdown cell with the title of the notebook \n- Create a markdown cell for a introduction of the notebook\n- Create a markdown cell to list some of the most common data sceince languages \n- Create a markdown cell to list some of the most common data science libraries ",
      "metadata": {
        "tags": []
      }
    },
    {
      "id": "4ff45122-c1a2-43a4-9bf6-b3197e731dca",
      "cell_type": "markdown",
      "source": "Some of the popular languages that Data Sciences use are:\n1. R\n2. Python\n3. SQL",
      "metadata": {}
    },
    {
      "id": "785ad0a7-016d-4197-886f-9a43c7c3c3ae",
      "cell_type": "markdown",
      "source": "Some of the common used libraries used by Data Scientists include:\n1. Pandas\n2. NumPy\n3. Matplotlib",
      "metadata": {}
    },
    {
      "id": "e58be16d-0a81-447d-9434-fa31562c2a27",
      "cell_type": "markdown",
      "source": "|Data Science Tools |\n|------------------ |\n| 1° JupyterLab |\n| 2° JupyterLite |\n| 3° VS Code |",
      "metadata": {}
    },
    {
      "id": "9a22e72e-b101-4e77-bf40-0fbe8f59dd08",
      "cell_type": "markdown",
      "source": "### Below are a few examples of evaluating arithmetic expressions in Python",
      "metadata": {}
    },
    {
      "id": "5ede5cdc-15ae-4f77-9f3c-aaebdfd9085b",
      "cell_type": "code",
      "source": "# This a simple arithmetic expression to multiply then add integers \n(3*4)+5",
      "metadata": {
        "tags": [],
        "trusted": true
      },
      "outputs": [
        {
          "execution_count": 6,
          "output_type": "execute_result",
          "data": {
            "text/plain": "17"
          },
          "metadata": {}
        }
      ],
      "execution_count": 6
    },
    {
      "id": "75a222e7-7983-4dad-9133-e9b0931a930f",
      "cell_type": "code",
      "source": "# This will convert 200 minutes to hours by dividing by 60\n\nprint(200/60, \"hours\\nor\")\nprint(200//60,\"hours and\",200 - ((200//60)*60),\"minutes\")",
      "metadata": {
        "tags": [],
        "trusted": true
      },
      "outputs": [
        {
          "name": "stdout",
          "text": "3.3333333333333335 hours\nor\n3 hours and 20 minutes\n",
          "output_type": "stream"
        }
      ],
      "execution_count": 7
    },
    {
      "id": "de8e5a5b-dbcb-4bbd-a921-22111049f626",
      "cell_type": "markdown",
      "source": "## Author\nSalvo Bazzano",
      "metadata": {}
    },
    {
      "id": "2669411b-a6fe-4dfc-916a-5913ea0db843",
      "cell_type": "code",
      "source": "",
      "metadata": {},
      "outputs": [],
      "execution_count": null
    }
  ]
}